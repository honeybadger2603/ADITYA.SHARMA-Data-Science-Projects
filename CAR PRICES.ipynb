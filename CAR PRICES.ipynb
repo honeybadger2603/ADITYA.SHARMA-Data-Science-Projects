{
 "cells": [
  {
   "cell_type": "code",
   "execution_count": 22,
   "id": "cc00a480",
   "metadata": {},
   "outputs": [
    {
     "name": "stderr",
     "output_type": "stream",
     "text": [
      "UsageError: unrecognized arguments: #allows us to directly interact with the plots\n"
     ]
    }
   ],
   "source": [
    "import pandas as pd\n",
    "import numpy as np\n",
    "import matplotlib.pyplot as plt\n",
    "import seaborn as sns\n",
    "import statsmodels.formula.api as smf\n",
    "%matplotlib inline\n",
    "#allows us to directly interact with the plots\n",
    "from scipy import stats"
   ]
  },
  {
   "cell_type": "code",
   "execution_count": 32,
   "id": "77a20503",
   "metadata": {},
   "outputs": [
    {
     "name": "stdout",
     "output_type": "stream",
     "text": [
      "Missing values per column:\n",
      "Price        0\n",
      "Age          2\n",
      "KM           0\n",
      "FuelType     4\n",
      "HP           0\n",
      "MetColor     0\n",
      "Automatic    0\n",
      "CC           2\n",
      "Doors        0\n",
      "Weight       2\n",
      "dtype: int64\n"
     ]
    }
   ],
   "source": [
    "# Check for missing values\n",
    "print(\"Missing values per column:\")\n",
    "print(data.isnull().sum())\n"
   ]
  },
  {
   "cell_type": "code",
   "execution_count": 34,
   "id": "104ea31f",
   "metadata": {},
   "outputs": [],
   "source": [
    "# Drop rows with missing values\n",
    "data_cleaned = data.dropna()"
   ]
  },
  {
   "cell_type": "code",
   "execution_count": 57,
   "id": "5bd26425",
   "metadata": {},
   "outputs": [
    {
     "data": {
      "text/plain": [
       "112     1320.0\n",
       "138     1320.0\n",
       "115     1280.0\n",
       "119     1275.0\n",
       "68      1275.0\n",
       "         ...  \n",
       "605     1000.0\n",
       "1410    1000.0\n",
       "1375    1000.0\n",
       "1030    1000.0\n",
       "1391    1000.0\n",
       "Name: Weight, Length: 1430, dtype: float64"
      ]
     },
     "execution_count": 57,
     "metadata": {},
     "output_type": "execute_result"
    }
   ],
   "source": [
    "# Finding logical value near 1400\n",
    "CarPricesData['Weight'][CarPricesData['Weight']<1400].sort_values(ascending=False)"
   ]
  },
  {
   "cell_type": "markdown",
   "id": "c26f195c",
   "metadata": {},
   "source": [
    "# Data description\n",
    "The meaning of each column in the data is as below:\n",
    "\n",
    "Price: The Price of the car in dollars\n",
    "Age: The age of the car in months\n",
    "KM: How many KMS did the car was used\n",
    "FuelType: Petrol/Diesel/CNG car\n",
    "HP: Horse power of the car\n",
    "MetColor: Whether car has metallic color or not\n",
    "Automatic: Whether car has automatic transmission or not\n",
    "CC: The engine size of the car\n",
    "Doors: The number of doors in the car\n",
    "Weight: The weight of the car"
   ]
  },
  {
   "cell_type": "code",
   "execution_count": 3,
   "id": "e098752f",
   "metadata": {},
   "outputs": [],
   "source": [
    "CarPricesData=pd.read_csv(r'C:\\Users\\adity\\Downloads\\CarPricesData (1).csv')"
   ]
  },
  {
   "cell_type": "code",
   "execution_count": 4,
   "id": "5bb8a3a3",
   "metadata": {},
   "outputs": [
    {
     "data": {
      "text/html": [
       "<div>\n",
       "<style scoped>\n",
       "    .dataframe tbody tr th:only-of-type {\n",
       "        vertical-align: middle;\n",
       "    }\n",
       "\n",
       "    .dataframe tbody tr th {\n",
       "        vertical-align: top;\n",
       "    }\n",
       "\n",
       "    .dataframe thead th {\n",
       "        text-align: right;\n",
       "    }\n",
       "</style>\n",
       "<table border=\"1\" class=\"dataframe\">\n",
       "  <thead>\n",
       "    <tr style=\"text-align: right;\">\n",
       "      <th></th>\n",
       "      <th>Price</th>\n",
       "      <th>Age</th>\n",
       "      <th>KM</th>\n",
       "      <th>FuelType</th>\n",
       "      <th>HP</th>\n",
       "      <th>MetColor</th>\n",
       "      <th>Automatic</th>\n",
       "      <th>CC</th>\n",
       "      <th>Doors</th>\n",
       "      <th>Weight</th>\n",
       "    </tr>\n",
       "  </thead>\n",
       "  <tbody>\n",
       "    <tr>\n",
       "      <th>0</th>\n",
       "      <td>13500</td>\n",
       "      <td>23.0</td>\n",
       "      <td>46986</td>\n",
       "      <td>Diesel</td>\n",
       "      <td>90</td>\n",
       "      <td>1</td>\n",
       "      <td>0</td>\n",
       "      <td>2000.0</td>\n",
       "      <td>3</td>\n",
       "      <td>1165.0</td>\n",
       "    </tr>\n",
       "    <tr>\n",
       "      <th>1</th>\n",
       "      <td>13750</td>\n",
       "      <td>23.0</td>\n",
       "      <td>72937</td>\n",
       "      <td>Diesel</td>\n",
       "      <td>90</td>\n",
       "      <td>1</td>\n",
       "      <td>0</td>\n",
       "      <td>2000.0</td>\n",
       "      <td>3</td>\n",
       "      <td>1165.0</td>\n",
       "    </tr>\n",
       "    <tr>\n",
       "      <th>2</th>\n",
       "      <td>13950</td>\n",
       "      <td>24.0</td>\n",
       "      <td>41711</td>\n",
       "      <td>Diesel</td>\n",
       "      <td>90</td>\n",
       "      <td>1</td>\n",
       "      <td>0</td>\n",
       "      <td>2000.0</td>\n",
       "      <td>3</td>\n",
       "      <td>1165.0</td>\n",
       "    </tr>\n",
       "    <tr>\n",
       "      <th>3</th>\n",
       "      <td>14950</td>\n",
       "      <td>26.0</td>\n",
       "      <td>48000</td>\n",
       "      <td>Diesel</td>\n",
       "      <td>90</td>\n",
       "      <td>0</td>\n",
       "      <td>0</td>\n",
       "      <td>2000.0</td>\n",
       "      <td>3</td>\n",
       "      <td>1165.0</td>\n",
       "    </tr>\n",
       "    <tr>\n",
       "      <th>4</th>\n",
       "      <td>13750</td>\n",
       "      <td>30.0</td>\n",
       "      <td>38500</td>\n",
       "      <td>Diesel</td>\n",
       "      <td>90</td>\n",
       "      <td>0</td>\n",
       "      <td>0</td>\n",
       "      <td>2000.0</td>\n",
       "      <td>3</td>\n",
       "      <td>1170.0</td>\n",
       "    </tr>\n",
       "    <tr>\n",
       "      <th>5</th>\n",
       "      <td>12950</td>\n",
       "      <td>32.0</td>\n",
       "      <td>61000</td>\n",
       "      <td>Diesel</td>\n",
       "      <td>90</td>\n",
       "      <td>0</td>\n",
       "      <td>0</td>\n",
       "      <td>2000.0</td>\n",
       "      <td>3</td>\n",
       "      <td>1170.0</td>\n",
       "    </tr>\n",
       "    <tr>\n",
       "      <th>6</th>\n",
       "      <td>16900</td>\n",
       "      <td>27.0</td>\n",
       "      <td>94612</td>\n",
       "      <td>Diesel</td>\n",
       "      <td>90</td>\n",
       "      <td>1</td>\n",
       "      <td>0</td>\n",
       "      <td>2000.0</td>\n",
       "      <td>3</td>\n",
       "      <td>1245.0</td>\n",
       "    </tr>\n",
       "    <tr>\n",
       "      <th>7</th>\n",
       "      <td>18600</td>\n",
       "      <td>30.0</td>\n",
       "      <td>75889</td>\n",
       "      <td>Diesel</td>\n",
       "      <td>90</td>\n",
       "      <td>1</td>\n",
       "      <td>0</td>\n",
       "      <td>2000.0</td>\n",
       "      <td>3</td>\n",
       "      <td>1245.0</td>\n",
       "    </tr>\n",
       "    <tr>\n",
       "      <th>8</th>\n",
       "      <td>21500</td>\n",
       "      <td>27.0</td>\n",
       "      <td>19700</td>\n",
       "      <td>Petrol</td>\n",
       "      <td>192</td>\n",
       "      <td>0</td>\n",
       "      <td>0</td>\n",
       "      <td>1800.0</td>\n",
       "      <td>3</td>\n",
       "      <td>1185.0</td>\n",
       "    </tr>\n",
       "    <tr>\n",
       "      <th>9</th>\n",
       "      <td>12950</td>\n",
       "      <td>23.0</td>\n",
       "      <td>71138</td>\n",
       "      <td>Diesel</td>\n",
       "      <td>69</td>\n",
       "      <td>0</td>\n",
       "      <td>0</td>\n",
       "      <td>1900.0</td>\n",
       "      <td>3</td>\n",
       "      <td>1105.0</td>\n",
       "    </tr>\n",
       "  </tbody>\n",
       "</table>\n",
       "</div>"
      ],
      "text/plain": [
       "   Price   Age     KM FuelType   HP  MetColor  Automatic      CC  Doors  \\\n",
       "0  13500  23.0  46986   Diesel   90         1          0  2000.0      3   \n",
       "1  13750  23.0  72937   Diesel   90         1          0  2000.0      3   \n",
       "2  13950  24.0  41711   Diesel   90         1          0  2000.0      3   \n",
       "3  14950  26.0  48000   Diesel   90         0          0  2000.0      3   \n",
       "4  13750  30.0  38500   Diesel   90         0          0  2000.0      3   \n",
       "5  12950  32.0  61000   Diesel   90         0          0  2000.0      3   \n",
       "6  16900  27.0  94612   Diesel   90         1          0  2000.0      3   \n",
       "7  18600  30.0  75889   Diesel   90         1          0  2000.0      3   \n",
       "8  21500  27.0  19700   Petrol  192         0          0  1800.0      3   \n",
       "9  12950  23.0  71138   Diesel   69         0          0  1900.0      3   \n",
       "\n",
       "   Weight  \n",
       "0  1165.0  \n",
       "1  1165.0  \n",
       "2  1165.0  \n",
       "3  1165.0  \n",
       "4  1170.0  \n",
       "5  1170.0  \n",
       "6  1245.0  \n",
       "7  1245.0  \n",
       "8  1185.0  \n",
       "9  1105.0  "
      ]
     },
     "execution_count": 4,
     "metadata": {},
     "output_type": "execute_result"
    }
   ],
   "source": [
    "# Printing sample data\n",
    "CarPricesData.head(10)"
   ]
  },
  {
   "cell_type": "code",
   "execution_count": 6,
   "id": "1bc02072",
   "metadata": {},
   "outputs": [],
   "source": [
    "# Removing duplicate rows if any\n",
    "CarPricesData=CarPricesData.drop_duplicates()"
   ]
  },
  {
   "cell_type": "markdown",
   "id": "5ff06c1a",
   "metadata": {},
   "source": [
    "# PROBLEM STATEMENT:\n",
    "    Create a ML Model that can predict the accurate price of a car\n",
    "    by using predictors like age,km,fueltype,cc etc"
   ]
  },
  {
   "cell_type": "code",
   "execution_count": 14,
   "id": "07ce9986",
   "metadata": {},
   "outputs": [
    {
     "data": {
      "text/plain": [
       "<AxesSubplot:>"
      ]
     },
     "execution_count": 14,
     "metadata": {},
     "output_type": "execute_result"
    },
    {
     "data": {
      "image/png": "[encoded data removed]",
      "text/plain": [
       "<Figure size 640x480 with 1 Axes>"
      ]
     },
     "metadata": {},
     "output_type": "display_data"
    }
   ],
   "source": [
    "#Checking skewness of distribution of target variable (Price)\n",
    "#if the skewness is too much then predictive modelling will be inaccurate/impossible\n",
    "\n",
    "%matplotlib inline\n",
    "# Creating Bar chart as the Target variable is Continuous\n",
    "CarPricesData['Price'].hist()"
   ]
  },
  {
   "cell_type": "code",
   "execution_count": null,
   "id": "81076fe9",
   "metadata": {},
   "outputs": [],
   "source": [
    "# the skewness of the distribution of PRICE is satisfactory and we are good to proceed  "
   ]
  },
  {
   "cell_type": "markdown",
   "id": "f45ccb3a",
   "metadata": {},
   "source": [
    "# BASIC EDA"
   ]
  },
  {
   "cell_type": "code",
   "execution_count": 15,
   "id": "3d0f35d9",
   "metadata": {},
   "outputs": [
    {
     "name": "stdout",
     "output_type": "stream",
     "text": [
      "<class 'pandas.core.frame.DataFrame'>\n",
      "Int64Index: 1435 entries, 0 to 1435\n",
      "Data columns (total 10 columns):\n",
      " #   Column     Non-Null Count  Dtype  \n",
      "---  ------     --------------  -----  \n",
      " 0   Price      1435 non-null   int64  \n",
      " 1   Age        1433 non-null   float64\n",
      " 2   KM         1435 non-null   int64  \n",
      " 3   FuelType   1431 non-null   object \n",
      " 4   HP         1435 non-null   int64  \n",
      " 5   MetColor   1435 non-null   int64  \n",
      " 6   Automatic  1435 non-null   int64  \n",
      " 7   CC         1433 non-null   float64\n",
      " 8   Doors      1435 non-null   int64  \n",
      " 9   Weight     1433 non-null   float64\n",
      "dtypes: float64(3), int64(6), object(1)\n",
      "memory usage: 123.3+ KB\n"
     ]
    }
   ],
   "source": [
    "CarPricesData.info()"
   ]
  },
  {
   "cell_type": "code",
   "execution_count": 16,
   "id": "355ebb74",
   "metadata": {},
   "outputs": [
    {
     "data": {
      "text/html": [
       "<div>\n",
       "<style scoped>\n",
       "    .dataframe tbody tr th:only-of-type {\n",
       "        vertical-align: middle;\n",
       "    }\n",
       "\n",
       "    .dataframe tbody tr th {\n",
       "        vertical-align: top;\n",
       "    }\n",
       "\n",
       "    .dataframe thead th {\n",
       "        text-align: right;\n",
       "    }\n",
       "</style>\n",
       "<table border=\"1\" class=\"dataframe\">\n",
       "  <thead>\n",
       "    <tr style=\"text-align: right;\">\n",
       "      <th></th>\n",
       "      <th>Price</th>\n",
       "      <th>Age</th>\n",
       "      <th>KM</th>\n",
       "      <th>FuelType</th>\n",
       "      <th>HP</th>\n",
       "      <th>MetColor</th>\n",
       "      <th>Automatic</th>\n",
       "      <th>CC</th>\n",
       "      <th>Doors</th>\n",
       "      <th>Weight</th>\n",
       "    </tr>\n",
       "  </thead>\n",
       "  <tbody>\n",
       "    <tr>\n",
       "      <th>count</th>\n",
       "      <td>1435.000000</td>\n",
       "      <td>1433.000000</td>\n",
       "      <td>1435.000000</td>\n",
       "      <td>1431</td>\n",
       "      <td>1435.000000</td>\n",
       "      <td>1435.000000</td>\n",
       "      <td>1435.000000</td>\n",
       "      <td>1433.000000</td>\n",
       "      <td>1435.000000</td>\n",
       "      <td>1433.000000</td>\n",
       "    </tr>\n",
       "    <tr>\n",
       "      <th>unique</th>\n",
       "      <td>NaN</td>\n",
       "      <td>NaN</td>\n",
       "      <td>NaN</td>\n",
       "      <td>3</td>\n",
       "      <td>NaN</td>\n",
       "      <td>NaN</td>\n",
       "      <td>NaN</td>\n",
       "      <td>NaN</td>\n",
       "      <td>NaN</td>\n",
       "      <td>NaN</td>\n",
       "    </tr>\n",
       "    <tr>\n",
       "      <th>top</th>\n",
       "      <td>NaN</td>\n",
       "      <td>NaN</td>\n",
       "      <td>NaN</td>\n",
       "      <td>Petrol</td>\n",
       "      <td>NaN</td>\n",
       "      <td>NaN</td>\n",
       "      <td>NaN</td>\n",
       "      <td>NaN</td>\n",
       "      <td>NaN</td>\n",
       "      <td>NaN</td>\n",
       "    </tr>\n",
       "    <tr>\n",
       "      <th>freq</th>\n",
       "      <td>NaN</td>\n",
       "      <td>NaN</td>\n",
       "      <td>NaN</td>\n",
       "      <td>1260</td>\n",
       "      <td>NaN</td>\n",
       "      <td>NaN</td>\n",
       "      <td>NaN</td>\n",
       "      <td>NaN</td>\n",
       "      <td>NaN</td>\n",
       "      <td>NaN</td>\n",
       "    </tr>\n",
       "    <tr>\n",
       "      <th>mean</th>\n",
       "      <td>10720.915679</td>\n",
       "      <td>56.020237</td>\n",
       "      <td>68571.782578</td>\n",
       "      <td>NaN</td>\n",
       "      <td>101.491986</td>\n",
       "      <td>0.674564</td>\n",
       "      <td>0.055749</td>\n",
       "      <td>1566.688765</td>\n",
       "      <td>4.032753</td>\n",
       "      <td>1072.314724</td>\n",
       "    </tr>\n",
       "    <tr>\n",
       "      <th>std</th>\n",
       "      <td>3608.732978</td>\n",
       "      <td>18.544948</td>\n",
       "      <td>37491.094553</td>\n",
       "      <td>NaN</td>\n",
       "      <td>14.981408</td>\n",
       "      <td>0.468701</td>\n",
       "      <td>0.229517</td>\n",
       "      <td>186.893360</td>\n",
       "      <td>0.952667</td>\n",
       "      <td>52.283038</td>\n",
       "    </tr>\n",
       "    <tr>\n",
       "      <th>min</th>\n",
       "      <td>4350.000000</td>\n",
       "      <td>1.000000</td>\n",
       "      <td>1.000000</td>\n",
       "      <td>NaN</td>\n",
       "      <td>69.000000</td>\n",
       "      <td>0.000000</td>\n",
       "      <td>0.000000</td>\n",
       "      <td>1300.000000</td>\n",
       "      <td>2.000000</td>\n",
       "      <td>1000.000000</td>\n",
       "    </tr>\n",
       "    <tr>\n",
       "      <th>25%</th>\n",
       "      <td>8450.000000</td>\n",
       "      <td>44.000000</td>\n",
       "      <td>43000.000000</td>\n",
       "      <td>NaN</td>\n",
       "      <td>90.000000</td>\n",
       "      <td>0.000000</td>\n",
       "      <td>0.000000</td>\n",
       "      <td>1400.000000</td>\n",
       "      <td>3.000000</td>\n",
       "      <td>1040.000000</td>\n",
       "    </tr>\n",
       "    <tr>\n",
       "      <th>50%</th>\n",
       "      <td>9900.000000</td>\n",
       "      <td>61.000000</td>\n",
       "      <td>63451.000000</td>\n",
       "      <td>NaN</td>\n",
       "      <td>110.000000</td>\n",
       "      <td>1.000000</td>\n",
       "      <td>0.000000</td>\n",
       "      <td>1600.000000</td>\n",
       "      <td>4.000000</td>\n",
       "      <td>1070.000000</td>\n",
       "    </tr>\n",
       "    <tr>\n",
       "      <th>75%</th>\n",
       "      <td>11950.000000</td>\n",
       "      <td>70.000000</td>\n",
       "      <td>87041.500000</td>\n",
       "      <td>NaN</td>\n",
       "      <td>110.000000</td>\n",
       "      <td>1.000000</td>\n",
       "      <td>0.000000</td>\n",
       "      <td>1600.000000</td>\n",
       "      <td>5.000000</td>\n",
       "      <td>1085.000000</td>\n",
       "    </tr>\n",
       "    <tr>\n",
       "      <th>max</th>\n",
       "      <td>32500.000000</td>\n",
       "      <td>80.000000</td>\n",
       "      <td>243000.000000</td>\n",
       "      <td>NaN</td>\n",
       "      <td>192.000000</td>\n",
       "      <td>1.000000</td>\n",
       "      <td>1.000000</td>\n",
       "      <td>2000.000000</td>\n",
       "      <td>5.000000</td>\n",
       "      <td>1615.000000</td>\n",
       "    </tr>\n",
       "  </tbody>\n",
       "</table>\n",
       "</div>"
      ],
      "text/plain": [
       "               Price          Age             KM FuelType           HP  \\\n",
       "count    1435.000000  1433.000000    1435.000000     1431  1435.000000   \n",
       "unique           NaN          NaN            NaN        3          NaN   \n",
       "top              NaN          NaN            NaN   Petrol          NaN   \n",
       "freq             NaN          NaN            NaN     1260          NaN   \n",
       "mean    10720.915679    56.020237   68571.782578      NaN   101.491986   \n",
       "std      3608.732978    18.544948   37491.094553      NaN    14.981408   \n",
       "min      4350.000000     1.000000       1.000000      NaN    69.000000   \n",
       "25%      8450.000000    44.000000   43000.000000      NaN    90.000000   \n",
       "50%      9900.000000    61.000000   63451.000000      NaN   110.000000   \n",
       "75%     11950.000000    70.000000   87041.500000      NaN   110.000000   \n",
       "max     32500.000000    80.000000  243000.000000      NaN   192.000000   \n",
       "\n",
       "           MetColor    Automatic           CC        Doors       Weight  \n",
       "count   1435.000000  1435.000000  1433.000000  1435.000000  1433.000000  \n",
       "unique          NaN          NaN          NaN          NaN          NaN  \n",
       "top             NaN          NaN          NaN          NaN          NaN  \n",
       "freq            NaN          NaN          NaN          NaN          NaN  \n",
       "mean       0.674564     0.055749  1566.688765     4.032753  1072.314724  \n",
       "std        0.468701     0.229517   186.893360     0.952667    52.283038  \n",
       "min        0.000000     0.000000  1300.000000     2.000000  1000.000000  \n",
       "25%        0.000000     0.000000  1400.000000     3.000000  1040.000000  \n",
       "50%        1.000000     0.000000  1600.000000     4.000000  1070.000000  \n",
       "75%        1.000000     0.000000  1600.000000     5.000000  1085.000000  \n",
       "max        1.000000     1.000000  2000.000000     5.000000  1615.000000  "
      ]
     },
     "execution_count": 16,
     "metadata": {},
     "output_type": "execute_result"
    }
   ],
   "source": [
    "# Looking at the descriptive statistics of the data\n",
    "CarPricesData.describe(include='all')"
   ]
  },
  {
   "cell_type": "code",
   "execution_count": 17,
   "id": "bbd847ca",
   "metadata": {},
   "outputs": [
    {
     "data": {
      "text/plain": [
       "Price         236\n",
       "Age            77\n",
       "KM           1263\n",
       "FuelType        3\n",
       "HP             12\n",
       "MetColor        2\n",
       "Automatic       2\n",
       "CC             12\n",
       "Doors           4\n",
       "Weight         59\n",
       "dtype: int64"
      ]
     },
     "execution_count": 17,
     "metadata": {},
     "output_type": "execute_result"
    }
   ],
   "source": [
    "# Finding unique values of each column\n",
    "CarPricesData.nunique()"
   ]
  },
  {
   "cell_type": "code",
   "execution_count": 19,
   "id": "dce66501",
   "metadata": {},
   "outputs": [
    {
     "data": {
      "image/png": "[encoded data removed]",
      "text/plain": [
       "<Figure size 1000x600 with 1 Axes>"
      ]
     },
     "metadata": {},
     "output_type": "display_data"
    }
   ],
   "source": [
    "# Scatter plot of Age of car against Price of car \n",
    "plt.figure(figsize=(10, 6))\n",
    "plt.scatter(CarPricesData['Age'], CarPricesData['Price'], alpha=0.5)\n",
    "plt.xlabel('Age')\n",
    "plt.ylabel('Price')\n",
    "plt.title('Scatter Plot of Age vs Price')\n",
    "plt.show()"
   ]
  },
  {
   "cell_type": "code",
   "execution_count": 20,
   "id": "8682c066",
   "metadata": {},
   "outputs": [
    {
     "data": {
      "image/png": "[encoded data removed]",
      "text/plain": [
       "<Figure size 1000x600 with 1 Axes>"
      ]
     },
     "metadata": {},
     "output_type": "display_data"
    }
   ],
   "source": [
    "# Histogram of Cars under a certain price range\n",
    "\n",
    "plt.figure(figsize=(10, 6))\n",
    "plt.hist(CarPricesData['Price'], bins=20, edgecolor='black')\n",
    "plt.xlabel('Price')\n",
    "plt.ylabel('Count')\n",
    "plt.title('Histogram of Price')\n",
    "plt.show()"
   ]
  },
  {
   "cell_type": "code",
   "execution_count": 23,
   "id": "bac00f21",
   "metadata": {},
   "outputs": [
    {
     "data": {
      "image/png": "[encoded data removed]",
      "text/plain": [
       "<Figure size 1000x600 with 1 Axes>"
      ]
     },
     "metadata": {},
     "output_type": "display_data"
    }
   ],
   "source": [
    "plt.figure(figsize=(10, 6))\n",
    "sns.boxplot(x='FuelType', y='Price', data=CarPricesData)\n",
    "plt.xlabel('Fuel Type')\n",
    "plt.ylabel('Price')\n",
    "plt.title('Box Plot of Price by Fuel Type')\n",
    "plt.show()"
   ]
  },
  {
   "cell_type": "markdown",
   "id": "e04e1df5",
   "metadata": {},
   "source": [
    "this plot shows the variability of car prices by fuel type is not too large. prices range from 5000 to about 23000. \n",
    "most outliers are observed in fuel type petrol maybe due to spike in petrol prices and availability or maybe due to the\n",
    "large sample size of petrol cars"
   ]
  },
  {
   "cell_type": "code",
   "execution_count": 52,
   "id": "130d68c0",
   "metadata": {},
   "outputs": [],
   "source": [
    "# Treating missing values of categorical variable with MODE value\n",
    "CarPricesData['FuelType'].fillna(value=CarPricesData['FuelType'].mode()[0], inplace=True)\n",
    "CarPricesData['CC'].fillna(value=CarPricesData['CC'].mode()[0], inplace=True)"
   ]
  },
  {
   "cell_type": "code",
   "execution_count": 53,
   "id": "6d8874f4",
   "metadata": {},
   "outputs": [],
   "source": [
    "# Treating missing values of continuous variable with Median value\n",
    "CarPricesData['Weight'].fillna(value=CarPricesData['Weight'].median(), inplace=True)\n",
    "CarPricesData['Age'].fillna(value=CarPricesData['Age'].median(), inplace=True)"
   ]
  },
  {
   "cell_type": "code",
   "execution_count": 54,
   "id": "2bcbc1d6",
   "metadata": {},
   "outputs": [
    {
     "data": {
      "text/plain": [
       "Price        0\n",
       "Age          0\n",
       "KM           0\n",
       "FuelType     0\n",
       "HP           0\n",
       "MetColor     0\n",
       "Automatic    0\n",
       "CC           0\n",
       "Doors        0\n",
       "Weight       0\n",
       "dtype: int64"
      ]
     },
     "execution_count": 54,
     "metadata": {},
     "output_type": "execute_result"
    }
   ],
   "source": [
    "# Checking missing values again after the treatment\n",
    "CarPricesData.isnull().sum()"
   ]
  },
  {
   "cell_type": "markdown",
   "id": "5a02025a",
   "metadata": {},
   "source": [
    "### ML MODEL BUILDING"
   ]
  },
  {
   "cell_type": "markdown",
   "id": "2be06251",
   "metadata": {},
   "source": [
    "Firstly, I have run a simple ANOVA Test to check if there is any relationship between the continuous variable \n",
    "or the target variable (price) and the other categorical variables\n",
    "\n",
    "H0: There is no relationship between the categorical and continuous variables\n",
    "HA: There is a relationship between the categorical and continuous variables\n",
    "\n",
    "There should be no correlation between categorical and continuous variables for the model to be accurate\n"
   ]
  },
  {
   "cell_type": "code",
   "execution_count": 58,
   "id": "4037c403",
   "metadata": {},
   "outputs": [],
   "source": [
    "### NORMALIZATION of data ###\n",
    "from sklearn.preprocessing import StandardScaler, MinMaxScaler\n",
    "# Choose either standardization or Normalization\n",
    "# On this data Min Max Normalization produced better results\n",
    "\n",
    "# Choose between standardization and MinMAx normalization\n",
    "#PredictorScaler=StandardScaler()\n",
    "PredictorScaler=MinMaxScaler()\n",
    "\n",
    "# Storing the fit object for later reference\n",
    "PredictorScalerFit=PredictorScaler.fit(X)\n",
    "\n",
    "# Generating the standardized values of X\n",
    "X=PredictorScalerFit.transform(X)\n",
    "\n",
    "# Split the data into training and testing set\n",
    "from sklearn.model_selection import train_test_split\n",
    "X_train, X_test, y_train, y_test = train_test_split(X, y, test_size=0.3, random_state=42)"
   ]
  },
  {
   "cell_type": "code",
   "execution_count": 59,
   "id": "34070767",
   "metadata": {},
   "outputs": [],
   "source": [
    "# Defining a function to find the statistical relationship with all the categorical variables\n",
    "def FunctionAnova(inpData, TargetVariable, CategoricalPredictorList):\n",
    "    from scipy.stats import f_oneway\n",
    "\n",
    "    # Creating an empty list of final selected predictors\n",
    "    SelectedPredictors=[]\n",
    "    \n",
    "    print('##### ANOVA Results ##### \\n')\n",
    "    for predictor in CategoricalPredictorList:\n",
    "        CategoryGroupLists=inpData.groupby(predictor)[TargetVariable].apply(list)\n",
    "        AnovaResults = f_oneway(*CategoryGroupLists)\n",
    "        \n",
    "        # If the ANOVA P-Value is <0.05, that means we reject H0\n",
    "        if (AnovaResults[1] < 0.05):\n",
    "            print(predictor, 'is correlated with', TargetVariable, '| P-Value:', AnovaResults[1])\n",
    "            SelectedPredictors.append(predictor)\n",
    "        else:\n",
    "            print(predictor, 'is NOT correlated with', TargetVariable, '| P-Value:', AnovaResults[1])\n",
    "    \n",
    "    return(SelectedPredictors)"
   ]
  },
  {
   "cell_type": "code",
   "execution_count": 60,
   "id": "17b40b2d",
   "metadata": {},
   "outputs": [
    {
     "name": "stdout",
     "output_type": "stream",
     "text": [
      "##### ANOVA Results ##### \n",
      "\n",
      "FuelType is NOT correlated with Price | P-Value: 0.07590511356326429\n",
      "HP is correlated with Price | P-Value: 4.403061434008212e-109\n",
      "MetColor is correlated with Price | P-Value: 4.4173957971674025e-05\n",
      "Automatic is NOT correlated with Price | P-Value: 0.19897717506836016\n",
      "CC is correlated with Price | P-Value: 2.566835080246702e-47\n",
      "Doors is correlated with Price | P-Value: 9.51180734144394e-13\n"
     ]
    },
    {
     "data": {
      "text/plain": [
       "['HP', 'MetColor', 'CC', 'Doors']"
      ]
     },
     "execution_count": 60,
     "metadata": {},
     "output_type": "execute_result"
    }
   ],
   "source": [
    "CategoricalPredictorList=['FuelType', 'HP', 'MetColor', 'Automatic', 'CC', 'Doors']\n",
    "FunctionAnova(inpData=CarPricesData, \n",
    "              TargetVariable='Price', \n",
    "              CategoricalPredictorList=CategoricalPredictorList)"
   ]
  },
  {
   "cell_type": "code",
   "execution_count": 61,
   "id": "28970372",
   "metadata": {},
   "outputs": [],
   "source": [
    "import pandas as pd\n",
    "import numpy as np\n",
    "from sklearn.linear_model import LinearRegression\n",
    "from sklearn.model_selection import train_test_split\n",
    "from sklearn.metrics import mean_squared_error, r2_score\n",
    "\n",
    "data = pd.read_csv(r'C:\\Users\\adity\\Downloads\\CarPricesData (1).csv')"
   ]
  },
  {
   "cell_type": "code",
   "execution_count": 62,
   "id": "a2857fea",
   "metadata": {},
   "outputs": [
    {
     "data": {
      "text/html": [
       "<div>\n",
       "<style scoped>\n",
       "    .dataframe tbody tr th:only-of-type {\n",
       "        vertical-align: middle;\n",
       "    }\n",
       "\n",
       "    .dataframe tbody tr th {\n",
       "        vertical-align: top;\n",
       "    }\n",
       "\n",
       "    .dataframe thead th {\n",
       "        text-align: right;\n",
       "    }\n",
       "</style>\n",
       "<table border=\"1\" class=\"dataframe\">\n",
       "  <thead>\n",
       "    <tr style=\"text-align: right;\">\n",
       "      <th></th>\n",
       "      <th>Age</th>\n",
       "      <th>KM</th>\n",
       "      <th>Weight</th>\n",
       "      <th>HP</th>\n",
       "      <th>MetColor</th>\n",
       "      <th>CC</th>\n",
       "      <th>Doors</th>\n",
       "    </tr>\n",
       "  </thead>\n",
       "  <tbody>\n",
       "    <tr>\n",
       "      <th>0</th>\n",
       "      <td>23.0</td>\n",
       "      <td>46986</td>\n",
       "      <td>1165.0</td>\n",
       "      <td>90</td>\n",
       "      <td>1</td>\n",
       "      <td>2000.0</td>\n",
       "      <td>3</td>\n",
       "    </tr>\n",
       "    <tr>\n",
       "      <th>1</th>\n",
       "      <td>23.0</td>\n",
       "      <td>72937</td>\n",
       "      <td>1165.0</td>\n",
       "      <td>90</td>\n",
       "      <td>1</td>\n",
       "      <td>2000.0</td>\n",
       "      <td>3</td>\n",
       "    </tr>\n",
       "    <tr>\n",
       "      <th>2</th>\n",
       "      <td>24.0</td>\n",
       "      <td>41711</td>\n",
       "      <td>1165.0</td>\n",
       "      <td>90</td>\n",
       "      <td>1</td>\n",
       "      <td>2000.0</td>\n",
       "      <td>3</td>\n",
       "    </tr>\n",
       "    <tr>\n",
       "      <th>3</th>\n",
       "      <td>26.0</td>\n",
       "      <td>48000</td>\n",
       "      <td>1165.0</td>\n",
       "      <td>90</td>\n",
       "      <td>0</td>\n",
       "      <td>2000.0</td>\n",
       "      <td>3</td>\n",
       "    </tr>\n",
       "    <tr>\n",
       "      <th>4</th>\n",
       "      <td>30.0</td>\n",
       "      <td>38500</td>\n",
       "      <td>1170.0</td>\n",
       "      <td>90</td>\n",
       "      <td>0</td>\n",
       "      <td>2000.0</td>\n",
       "      <td>3</td>\n",
       "    </tr>\n",
       "  </tbody>\n",
       "</table>\n",
       "</div>"
      ],
      "text/plain": [
       "    Age     KM  Weight  HP  MetColor      CC  Doors\n",
       "0  23.0  46986  1165.0  90         1  2000.0      3\n",
       "1  23.0  72937  1165.0  90         1  2000.0      3\n",
       "2  24.0  41711  1165.0  90         1  2000.0      3\n",
       "3  26.0  48000  1165.0  90         0  2000.0      3\n",
       "4  30.0  38500  1170.0  90         0  2000.0      3"
      ]
     },
     "execution_count": 62,
     "metadata": {},
     "output_type": "execute_result"
    }
   ],
   "source": [
    "SelectedColumns=['Age','KM','Weight','HP', 'MetColor', 'CC', 'Doors']\n",
    "\n",
    "# Selecting final columns\n",
    "DataForML=CarPricesData[SelectedColumns]\n",
    "DataForML.head()"
   ]
  },
  {
   "cell_type": "code",
   "execution_count": 63,
   "id": "8791fbbc",
   "metadata": {},
   "outputs": [],
   "source": [
    "# Saving this final data for reference during deployment\n",
    "DataForML.to_pickle('DataForML.pkl')"
   ]
  },
  {
   "cell_type": "code",
   "execution_count": 65,
   "id": "a4d2f153",
   "metadata": {},
   "outputs": [
    {
     "data": {
      "text/html": [
       "<div>\n",
       "<style scoped>\n",
       "    .dataframe tbody tr th:only-of-type {\n",
       "        vertical-align: middle;\n",
       "    }\n",
       "\n",
       "    .dataframe tbody tr th {\n",
       "        vertical-align: top;\n",
       "    }\n",
       "\n",
       "    .dataframe thead th {\n",
       "        text-align: right;\n",
       "    }\n",
       "</style>\n",
       "<table border=\"1\" class=\"dataframe\">\n",
       "  <thead>\n",
       "    <tr style=\"text-align: right;\">\n",
       "      <th></th>\n",
       "      <th>Age</th>\n",
       "      <th>KM</th>\n",
       "      <th>Weight</th>\n",
       "      <th>HP</th>\n",
       "      <th>MetColor</th>\n",
       "      <th>CC</th>\n",
       "      <th>Doors</th>\n",
       "      <th>Price</th>\n",
       "    </tr>\n",
       "  </thead>\n",
       "  <tbody>\n",
       "    <tr>\n",
       "      <th>0</th>\n",
       "      <td>23.0</td>\n",
       "      <td>46986</td>\n",
       "      <td>1165.0</td>\n",
       "      <td>90</td>\n",
       "      <td>1</td>\n",
       "      <td>2000.0</td>\n",
       "      <td>3</td>\n",
       "      <td>13500</td>\n",
       "    </tr>\n",
       "    <tr>\n",
       "      <th>1</th>\n",
       "      <td>23.0</td>\n",
       "      <td>72937</td>\n",
       "      <td>1165.0</td>\n",
       "      <td>90</td>\n",
       "      <td>1</td>\n",
       "      <td>2000.0</td>\n",
       "      <td>3</td>\n",
       "      <td>13750</td>\n",
       "    </tr>\n",
       "    <tr>\n",
       "      <th>2</th>\n",
       "      <td>24.0</td>\n",
       "      <td>41711</td>\n",
       "      <td>1165.0</td>\n",
       "      <td>90</td>\n",
       "      <td>1</td>\n",
       "      <td>2000.0</td>\n",
       "      <td>3</td>\n",
       "      <td>13950</td>\n",
       "    </tr>\n",
       "    <tr>\n",
       "      <th>3</th>\n",
       "      <td>26.0</td>\n",
       "      <td>48000</td>\n",
       "      <td>1165.0</td>\n",
       "      <td>90</td>\n",
       "      <td>0</td>\n",
       "      <td>2000.0</td>\n",
       "      <td>3</td>\n",
       "      <td>14950</td>\n",
       "    </tr>\n",
       "    <tr>\n",
       "      <th>4</th>\n",
       "      <td>30.0</td>\n",
       "      <td>38500</td>\n",
       "      <td>1170.0</td>\n",
       "      <td>90</td>\n",
       "      <td>0</td>\n",
       "      <td>2000.0</td>\n",
       "      <td>3</td>\n",
       "      <td>13750</td>\n",
       "    </tr>\n",
       "  </tbody>\n",
       "</table>\n",
       "</div>"
      ],
      "text/plain": [
       "    Age     KM  Weight  HP  MetColor      CC  Doors  Price\n",
       "0  23.0  46986  1165.0  90         1  2000.0      3  13500\n",
       "1  23.0  72937  1165.0  90         1  2000.0      3  13750\n",
       "2  24.0  41711  1165.0  90         1  2000.0      3  13950\n",
       "3  26.0  48000  1165.0  90         0  2000.0      3  14950\n",
       "4  30.0  38500  1170.0  90         0  2000.0      3  13750"
      ]
     },
     "execution_count": 65,
     "metadata": {},
     "output_type": "execute_result"
    }
   ],
   "source": [
    "# Treating all the nominal variables at once using dummy variables\n",
    "DataForML_Numeric=pd.get_dummies(DataForML)\n",
    "\n",
    "# Adding Target Variable to the data\n",
    "DataForML_Numeric['Price']=CarPricesData['Price']\n",
    "\n",
    "# Printing sample rows\n",
    "DataForML_Numeric.head()\n",
    "\n",
    "#Here i have, converted nominal values into numeric using get dummies function "
   ]
  },
  {
   "cell_type": "markdown",
   "id": "5430e2c3",
   "metadata": {},
   "source": [
    "#### SPLITTING TRAIN AND TEST "
   ]
  },
  {
   "cell_type": "code",
   "execution_count": 66,
   "id": "3400ea5d",
   "metadata": {},
   "outputs": [],
   "source": [
    "# Separate Target Variable and Predictor Variables\n",
    "TargetVariable='Price'\n",
    "Predictors=['Age', 'KM', 'Weight', 'HP', 'MetColor', 'CC', 'Doors']\n",
    "\n",
    "X=DataForML_Numeric[Predictors].values\n",
    "y=DataForML_Numeric[TargetVariable].values\n",
    "\n",
    "# Split the data into training and testing set\n",
    "from sklearn.model_selection import train_test_split\n",
    "X_train, X_test, y_train, y_test = train_test_split(X, y, test_size=0.3, random_state=428)"
   ]
  },
  {
   "cell_type": "markdown",
   "id": "81704704",
   "metadata": {},
   "source": [
    "### MLR and model deployment"
   ]
  },
  {
   "cell_type": "code",
   "execution_count": 75,
   "id": "88a6214a",
   "metadata": {},
   "outputs": [
    {
     "name": "stdout",
     "output_type": "stream",
     "text": [
      "LinearRegression()\n",
      "R2 Value: 0.8639079225489552\n"
     ]
    }
   ],
   "source": [
    "# Multiple Linear Regression\n",
    "from sklearn.linear_model import LinearRegression\n",
    "RegModel = LinearRegression()\n",
    "\n",
    "# Printing all the parameters of Linear regression\n",
    "print(RegModel)\n",
    "\n",
    "# Creating the model on Training Data\n",
    "LREG=RegModel.fit(X_train,y_train)\n",
    "prediction=LREG.predict(X_test)\n",
    "\n",
    "# Taking the standardized values to original scale\n",
    "\n",
    "\n",
    "from sklearn import metrics\n",
    "# Measuring Goodness of fit in Training data\n",
    "print('R2 Value:',metrics.r2_score(y_train, LREG.predict(X_train)))\n",
    "\n"
   ]
  },
  {
   "cell_type": "code",
   "execution_count": 77,
   "id": "0cf0ac9f",
   "metadata": {},
   "outputs": [
    {
     "name": "stdout",
     "output_type": "stream",
     "text": [
      "\n",
      "##### Model Validation and Accuracy Calculations ##########\n",
      "   Price  PredictedPrice\n",
      "0  11900         11955.0\n",
      "1   8500          8301.0\n",
      "2  24500         18332.0\n",
      "3  11750         11333.0\n",
      "4  13750         13966.0\n",
      "\n",
      "Accuracy values for 10-fold Cross Validation:\n",
      " [88.56760465 89.10169587 88.14261529 91.92822999 89.53895835 91.5881939\n",
      " 90.90567085 87.37511596 90.38793752 88.41900007]\n",
      "\n",
      "Final Average Accuracy of the model: 89.6\n"
     ]
    }
   ],
   "source": [
    "###########################################################################\n",
    "print('\\n##### Model Validation and Accuracy Calculations ##########')\n",
    "\n",
    "# Printing some sample values of prediction\n",
    "TestingDataResults=pd.DataFrame(data=X_test, columns=Predictors)\n",
    "TestingDataResults[TargetVariable]=y_test\n",
    "TestingDataResults[('Predicted'+TargetVariable)]=np.round(prediction)\n",
    "\n",
    "# Printing sample prediction values\n",
    "print(TestingDataResults[[TargetVariable,'Predicted'+TargetVariable]].head())\n",
    "\n",
    "\n",
    "# Importing cross validation function from sklearn\n",
    "from sklearn.model_selection import cross_val_score\n",
    "\n",
    "# Running 10-Fold Cross validation on a given algorithm\n",
    "# Passing full data X and y because the K-fold will split the data and automatically choose train/test\n",
    "Accuracy_Values=cross_val_score(RegModel, X , y, cv=10, scoring=custom_Scoring)\n",
    "print('\\nAccuracy values for 10-fold Cross Validation:\\n',Accuracy_Values)\n",
    "print('\\nFinal Average Accuracy of the model:', round(Accuracy_Values.mean(),2))"
   ]
  },
  {
   "cell_type": "markdown",
   "id": "965c454d",
   "metadata": {},
   "source": [
    "##### R2 value is 0.86 or 86% of the variation in the target variable (price) can be explained by the predictors (metcolor, cc,age etc)"
   ]
  }
 ],
 "metadata": {
  "kernelspec": {
   "display_name": "Python 3 (ipykernel)",
   "language": "python",
   "name": "python3"
  },
  "language_info": {
   "codemirror_mode": {
    "name": "ipython",
    "version": 3
   },
   "file_extension": ".py",
   "mimetype": "text/x-python",
   "name": "python",
   "nbconvert_exporter": "python",
   "pygments_lexer": "ipython3",
   "version": "3.9.13"
  }
 },
 "nbformat": 4,
 "nbformat_minor": 5
}
